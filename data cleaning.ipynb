{
 "cells": [
  {
   "cell_type": "code",
   "execution_count": 2,
   "metadata": {
    "collapsed": true
   },
   "outputs": [],
   "source": [
    "import pandas as pd"
   ]
  },
  {
   "cell_type": "code",
   "execution_count": 8,
   "outputs": [],
   "source": [
    "listings = pd.DataFrame(pd.read_csv(\"./Dataset/listings.csv\"))"
   ],
   "metadata": {
    "collapsed": false,
    "pycharm": {
     "name": "#%%\n"
    }
   }
  },
  {
   "cell_type": "code",
   "execution_count": 9,
   "outputs": [
    {
     "data": {
      "text/plain": "      id                         listing_url     scrape_id last_scraped  \\\n0  18674  https://www.airbnb.com/rooms/18674  2.021120e+13    2021/12/8   \n1  23197  https://www.airbnb.com/rooms/23197  2.021120e+13    2021/12/8   \n2  32711  https://www.airbnb.com/rooms/32711  2.021120e+13    2021/12/8   \n3  34981  https://www.airbnb.com/rooms/34981  2.021120e+13    2021/12/7   \n4  35318  https://www.airbnb.com/rooms/35318  2.021120e+13    2021/12/7   \n5  36763  https://www.airbnb.com/rooms/36763  2.021120e+13    2021/12/8   \n6  40983  https://www.airbnb.com/rooms/40983  2.021120e+13    2021/12/8   \n7  41952  https://www.airbnb.com/rooms/41952  2.021120e+13    2021/12/8   \n8  46153  https://www.airbnb.com/rooms/46153  2.021120e+13    2021/12/8   \n9  49968  https://www.airbnb.com/rooms/49968  2.021120e+13    2021/12/8   \n\n                                                name  \\\n0    Huge flat for 8 people close to Sagrada Familia   \n1  Forum CCIB DeLuxe★Spacious &Elegant★Large Balcony   \n2                   Sagrada Familia area - Còrsega 1   \n3               VIDRE HOME PLAZA REAL on LAS RAMBLAS   \n4      Luxury room with private bathroom and balcony   \n5                              In front of the beach   \n6                   Classical loft close to pedrera!   \n7                 Modern Apartment - Sagrada Familia   \n8        CHIC SANT PERE★NO SHARING ★GREAT LOCATION ★   \n9                   Sagrada Familia area - Còrsega 2   \n\n                                         description  \\\n0  110m2 apartment to rent in Barcelona. Located ...   \n1  Beautiful spacious apartment, large terrace, 5...   \n2  A lovely two bedroom apartment only 250 m from...   \n3  Spacious apartment for large families or group...   \n4  Luxury Room with King Size bed, private bathro...   \n5  <b>The space</b><br />Habitación con una cama ...   \n6  Our cool and comfortable one bedroom apartment...   \n7  Bright new apartment located in the middle of ...   \n8  Free to rent from 27/01/2022<br />FREE WIFI <b...   \n9  A very nice two bedroom apartment only 250 m f...   \n\n                               neighborhood_overview  \\\n0  Apartment in Barcelona located in the heart of...   \n1  Strategically located in the Parc del Fòrum, a...   \n2  What's nearby  <br />This apartment is located...   \n3  Located in Ciutat Vella in the Gothic Quarter,...   \n4  The Gothic Quarter of Barcelona. One of the ol...   \n5  The neighbordhood is just at the beach, very c...   \n6  Is a perfect neighborhood, close to Paseo de G...   \n7                                                NaN   \n8  Centrally located in Barcelona’s charming old ...   \n9  What's nearby  <br />This apartment is located...   \n\n                                         picture_url  host_id  \\\n0  https://a0.muscache.com/pictures/13031453/413c...    71615   \n1  https://a0.muscache.com/pictures/miso/Hosting-...    90417   \n2  https://a0.muscache.com/pictures/357b25e4-f414...   135703   \n3  https://a0.muscache.com/pictures/c4d1723c-e479...    73163   \n4  https://a0.muscache.com/pictures/miso/Hosting-...   152070   \n5  https://a0.muscache.com/pictures/32947430/7f41...   158596   \n6  https://a0.muscache.com/pictures/557237/1f185f...   177617   \n7  https://a0.muscache.com/pictures/4215361/2dc09...   183340   \n8  https://a0.muscache.com/pictures/d84e064c-6235...    90417   \n9  https://a0.muscache.com/pictures/82927561-3785...   135703   \n\n                                   host_url  ... review_scores_communication  \\\n0   https://www.airbnb.com/users/show/71615  ...                        4.90   \n1   https://www.airbnb.com/users/show/90417  ...                        4.98   \n2  https://www.airbnb.com/users/show/135703  ...                        4.79   \n3   https://www.airbnb.com/users/show/73163  ...                        4.68   \n4  https://www.airbnb.com/users/show/152070  ...                        4.83   \n5  https://www.airbnb.com/users/show/158596  ...                        4.89   \n6  https://www.airbnb.com/users/show/177617  ...                        4.76   \n7  https://www.airbnb.com/users/show/183340  ...                        4.58   \n8   https://www.airbnb.com/users/show/90417  ...                        4.00   \n9  https://www.airbnb.com/users/show/135703  ...                        4.91   \n\n  review_scores_location review_scores_value      license instant_bookable  \\\n0                   4.71                4.29  HUTB-002062                t   \n1                   4.66                4.67  HUTB-005057                f   \n2                   4.81                4.40  HUTB-001722                t   \n3                   4.73                4.47  HUTB-001506                f   \n4                   4.81                4.68          NaN                t   \n5                   4.91                4.77          NaN                f   \n6                   4.87                4.36  HUTB-001282                f   \n7                   4.65                4.49  HUTB-003549                f   \n8                   4.00                3.67       Exempt                f   \n9                   4.79                4.39  HUTB-001723                t   \n\n  calculated_host_listings_count calculated_host_listings_count_entire_homes  \\\n0                             19                                          19   \n1                              2                                           2   \n2                              3                                           3   \n3                              2                                           2   \n4                              1                                           0   \n5                              1                                           0   \n6                              6                                           3   \n7                              4                                           4   \n8                              2                                           2   \n9                              3                                           3   \n\n  calculated_host_listings_count_private_rooms  \\\n0                                            0   \n1                                            0   \n2                                            0   \n3                                            0   \n4                                            1   \n5                                            1   \n6                                            3   \n7                                            0   \n8                                            0   \n9                                            0   \n\n  calculated_host_listings_count_shared_rooms reviews_per_month  \n0                                           0              0.21  \n1                                           0              0.41  \n2                                           0              0.50  \n3                                           0              1.17  \n4                                           0              1.89  \n5                                           0              0.68  \n6                                           0              1.54  \n7                                           0              0.33  \n8                                           0              0.02  \n9                                           0              0.34  \n\n[10 rows x 74 columns]",
      "text/html": "<div>\n<style scoped>\n    .dataframe tbody tr th:only-of-type {\n        vertical-align: middle;\n    }\n\n    .dataframe tbody tr th {\n        vertical-align: top;\n    }\n\n    .dataframe thead th {\n        text-align: right;\n    }\n</style>\n<table border=\"1\" class=\"dataframe\">\n  <thead>\n    <tr style=\"text-align: right;\">\n      <th></th>\n      <th>id</th>\n      <th>listing_url</th>\n      <th>scrape_id</th>\n      <th>last_scraped</th>\n      <th>name</th>\n      <th>description</th>\n      <th>neighborhood_overview</th>\n      <th>picture_url</th>\n      <th>host_id</th>\n      <th>host_url</th>\n      <th>...</th>\n      <th>review_scores_communication</th>\n      <th>review_scores_location</th>\n      <th>review_scores_value</th>\n      <th>license</th>\n      <th>instant_bookable</th>\n      <th>calculated_host_listings_count</th>\n      <th>calculated_host_listings_count_entire_homes</th>\n      <th>calculated_host_listings_count_private_rooms</th>\n      <th>calculated_host_listings_count_shared_rooms</th>\n      <th>reviews_per_month</th>\n    </tr>\n  </thead>\n  <tbody>\n    <tr>\n      <th>0</th>\n      <td>18674</td>\n      <td>https://www.airbnb.com/rooms/18674</td>\n      <td>2.021120e+13</td>\n      <td>2021/12/8</td>\n      <td>Huge flat for 8 people close to Sagrada Familia</td>\n      <td>110m2 apartment to rent in Barcelona. Located ...</td>\n      <td>Apartment in Barcelona located in the heart of...</td>\n      <td>https://a0.muscache.com/pictures/13031453/413c...</td>\n      <td>71615</td>\n      <td>https://www.airbnb.com/users/show/71615</td>\n      <td>...</td>\n      <td>4.90</td>\n      <td>4.71</td>\n      <td>4.29</td>\n      <td>HUTB-002062</td>\n      <td>t</td>\n      <td>19</td>\n      <td>19</td>\n      <td>0</td>\n      <td>0</td>\n      <td>0.21</td>\n    </tr>\n    <tr>\n      <th>1</th>\n      <td>23197</td>\n      <td>https://www.airbnb.com/rooms/23197</td>\n      <td>2.021120e+13</td>\n      <td>2021/12/8</td>\n      <td>Forum CCIB DeLuxe★Spacious &amp;Elegant★Large Balcony</td>\n      <td>Beautiful spacious apartment, large terrace, 5...</td>\n      <td>Strategically located in the Parc del Fòrum, a...</td>\n      <td>https://a0.muscache.com/pictures/miso/Hosting-...</td>\n      <td>90417</td>\n      <td>https://www.airbnb.com/users/show/90417</td>\n      <td>...</td>\n      <td>4.98</td>\n      <td>4.66</td>\n      <td>4.67</td>\n      <td>HUTB-005057</td>\n      <td>f</td>\n      <td>2</td>\n      <td>2</td>\n      <td>0</td>\n      <td>0</td>\n      <td>0.41</td>\n    </tr>\n    <tr>\n      <th>2</th>\n      <td>32711</td>\n      <td>https://www.airbnb.com/rooms/32711</td>\n      <td>2.021120e+13</td>\n      <td>2021/12/8</td>\n      <td>Sagrada Familia area - Còrsega 1</td>\n      <td>A lovely two bedroom apartment only 250 m from...</td>\n      <td>What's nearby  &lt;br /&gt;This apartment is located...</td>\n      <td>https://a0.muscache.com/pictures/357b25e4-f414...</td>\n      <td>135703</td>\n      <td>https://www.airbnb.com/users/show/135703</td>\n      <td>...</td>\n      <td>4.79</td>\n      <td>4.81</td>\n      <td>4.40</td>\n      <td>HUTB-001722</td>\n      <td>t</td>\n      <td>3</td>\n      <td>3</td>\n      <td>0</td>\n      <td>0</td>\n      <td>0.50</td>\n    </tr>\n    <tr>\n      <th>3</th>\n      <td>34981</td>\n      <td>https://www.airbnb.com/rooms/34981</td>\n      <td>2.021120e+13</td>\n      <td>2021/12/7</td>\n      <td>VIDRE HOME PLAZA REAL on LAS RAMBLAS</td>\n      <td>Spacious apartment for large families or group...</td>\n      <td>Located in Ciutat Vella in the Gothic Quarter,...</td>\n      <td>https://a0.muscache.com/pictures/c4d1723c-e479...</td>\n      <td>73163</td>\n      <td>https://www.airbnb.com/users/show/73163</td>\n      <td>...</td>\n      <td>4.68</td>\n      <td>4.73</td>\n      <td>4.47</td>\n      <td>HUTB-001506</td>\n      <td>f</td>\n      <td>2</td>\n      <td>2</td>\n      <td>0</td>\n      <td>0</td>\n      <td>1.17</td>\n    </tr>\n    <tr>\n      <th>4</th>\n      <td>35318</td>\n      <td>https://www.airbnb.com/rooms/35318</td>\n      <td>2.021120e+13</td>\n      <td>2021/12/7</td>\n      <td>Luxury room with private bathroom and balcony</td>\n      <td>Luxury Room with King Size bed, private bathro...</td>\n      <td>The Gothic Quarter of Barcelona. One of the ol...</td>\n      <td>https://a0.muscache.com/pictures/miso/Hosting-...</td>\n      <td>152070</td>\n      <td>https://www.airbnb.com/users/show/152070</td>\n      <td>...</td>\n      <td>4.83</td>\n      <td>4.81</td>\n      <td>4.68</td>\n      <td>NaN</td>\n      <td>t</td>\n      <td>1</td>\n      <td>0</td>\n      <td>1</td>\n      <td>0</td>\n      <td>1.89</td>\n    </tr>\n    <tr>\n      <th>5</th>\n      <td>36763</td>\n      <td>https://www.airbnb.com/rooms/36763</td>\n      <td>2.021120e+13</td>\n      <td>2021/12/8</td>\n      <td>In front of the beach</td>\n      <td>&lt;b&gt;The space&lt;/b&gt;&lt;br /&gt;Habitación con una cama ...</td>\n      <td>The neighbordhood is just at the beach, very c...</td>\n      <td>https://a0.muscache.com/pictures/32947430/7f41...</td>\n      <td>158596</td>\n      <td>https://www.airbnb.com/users/show/158596</td>\n      <td>...</td>\n      <td>4.89</td>\n      <td>4.91</td>\n      <td>4.77</td>\n      <td>NaN</td>\n      <td>f</td>\n      <td>1</td>\n      <td>0</td>\n      <td>1</td>\n      <td>0</td>\n      <td>0.68</td>\n    </tr>\n    <tr>\n      <th>6</th>\n      <td>40983</td>\n      <td>https://www.airbnb.com/rooms/40983</td>\n      <td>2.021120e+13</td>\n      <td>2021/12/8</td>\n      <td>Classical loft close to pedrera!</td>\n      <td>Our cool and comfortable one bedroom apartment...</td>\n      <td>Is a perfect neighborhood, close to Paseo de G...</td>\n      <td>https://a0.muscache.com/pictures/557237/1f185f...</td>\n      <td>177617</td>\n      <td>https://www.airbnb.com/users/show/177617</td>\n      <td>...</td>\n      <td>4.76</td>\n      <td>4.87</td>\n      <td>4.36</td>\n      <td>HUTB-001282</td>\n      <td>f</td>\n      <td>6</td>\n      <td>3</td>\n      <td>3</td>\n      <td>0</td>\n      <td>1.54</td>\n    </tr>\n    <tr>\n      <th>7</th>\n      <td>41952</td>\n      <td>https://www.airbnb.com/rooms/41952</td>\n      <td>2.021120e+13</td>\n      <td>2021/12/8</td>\n      <td>Modern Apartment - Sagrada Familia</td>\n      <td>Bright new apartment located in the middle of ...</td>\n      <td>NaN</td>\n      <td>https://a0.muscache.com/pictures/4215361/2dc09...</td>\n      <td>183340</td>\n      <td>https://www.airbnb.com/users/show/183340</td>\n      <td>...</td>\n      <td>4.58</td>\n      <td>4.65</td>\n      <td>4.49</td>\n      <td>HUTB-003549</td>\n      <td>f</td>\n      <td>4</td>\n      <td>4</td>\n      <td>0</td>\n      <td>0</td>\n      <td>0.33</td>\n    </tr>\n    <tr>\n      <th>8</th>\n      <td>46153</td>\n      <td>https://www.airbnb.com/rooms/46153</td>\n      <td>2.021120e+13</td>\n      <td>2021/12/8</td>\n      <td>CHIC SANT PERE★NO SHARING ★GREAT LOCATION ★</td>\n      <td>Free to rent from 27/01/2022&lt;br /&gt;FREE WIFI &lt;b...</td>\n      <td>Centrally located in Barcelona’s charming old ...</td>\n      <td>https://a0.muscache.com/pictures/d84e064c-6235...</td>\n      <td>90417</td>\n      <td>https://www.airbnb.com/users/show/90417</td>\n      <td>...</td>\n      <td>4.00</td>\n      <td>4.00</td>\n      <td>3.67</td>\n      <td>Exempt</td>\n      <td>f</td>\n      <td>2</td>\n      <td>2</td>\n      <td>0</td>\n      <td>0</td>\n      <td>0.02</td>\n    </tr>\n    <tr>\n      <th>9</th>\n      <td>49968</td>\n      <td>https://www.airbnb.com/rooms/49968</td>\n      <td>2.021120e+13</td>\n      <td>2021/12/8</td>\n      <td>Sagrada Familia area - Còrsega 2</td>\n      <td>A very nice two bedroom apartment only 250 m f...</td>\n      <td>What's nearby  &lt;br /&gt;This apartment is located...</td>\n      <td>https://a0.muscache.com/pictures/82927561-3785...</td>\n      <td>135703</td>\n      <td>https://www.airbnb.com/users/show/135703</td>\n      <td>...</td>\n      <td>4.91</td>\n      <td>4.79</td>\n      <td>4.39</td>\n      <td>HUTB-001723</td>\n      <td>t</td>\n      <td>3</td>\n      <td>3</td>\n      <td>0</td>\n      <td>0</td>\n      <td>0.34</td>\n    </tr>\n  </tbody>\n</table>\n<p>10 rows × 74 columns</p>\n</div>"
     },
     "execution_count": 9,
     "metadata": {},
     "output_type": "execute_result"
    }
   ],
   "source": [
    "listings.head(10)"
   ],
   "metadata": {
    "collapsed": false,
    "pycharm": {
     "name": "#%%\n"
    }
   }
  },
  {
   "cell_type": "code",
   "execution_count": 11,
   "outputs": [
    {
     "data": {
      "text/plain": "Index(['id', 'listing_url', 'scrape_id', 'last_scraped', 'name', 'description',\n       'neighborhood_overview', 'picture_url', 'host_id', 'host_url',\n       'host_name', 'host_since', 'host_location', 'host_about',\n       'host_response_time', 'host_response_rate', 'host_acceptance_rate',\n       'host_is_superhost', 'host_thumbnail_url', 'host_picture_url',\n       'host_neighbourhood', 'host_listings_count',\n       'host_total_listings_count', 'host_verifications',\n       'host_has_profile_pic', 'host_identity_verified', 'neighbourhood',\n       'neighbourhood_cleansed', 'neighbourhood_group_cleansed', 'latitude',\n       'longitude', 'property_type', 'room_type', 'accommodates', 'bathrooms',\n       'bathrooms_text', 'bedrooms', 'beds', 'amenities', 'price',\n       'minimum_nights', 'maximum_nights', 'minimum_minimum_nights',\n       'maximum_minimum_nights', 'minimum_maximum_nights',\n       'maximum_maximum_nights', 'minimum_nights_avg_ntm',\n       'maximum_nights_avg_ntm', 'calendar_updated', 'has_availability',\n       'availability_30', 'availability_60', 'availability_90',\n       'availability_365', 'calendar_last_scraped', 'number_of_reviews',\n       'number_of_reviews_ltm', 'number_of_reviews_l30d', 'first_review',\n       'last_review', 'review_scores_rating', 'review_scores_accuracy',\n       'review_scores_cleanliness', 'review_scores_checkin',\n       'review_scores_communication', 'review_scores_location',\n       'review_scores_value', 'license', 'instant_bookable',\n       'calculated_host_listings_count',\n       'calculated_host_listings_count_entire_homes',\n       'calculated_host_listings_count_private_rooms',\n       'calculated_host_listings_count_shared_rooms', 'reviews_per_month'],\n      dtype='object')"
     },
     "execution_count": 11,
     "metadata": {},
     "output_type": "execute_result"
    }
   ],
   "source": [
    "listings.columns"
   ],
   "metadata": {
    "collapsed": false,
    "pycharm": {
     "name": "#%%\n"
    }
   }
  },
  {
   "cell_type": "code",
   "execution_count": null,
   "outputs": [],
   "source": [],
   "metadata": {
    "collapsed": false,
    "pycharm": {
     "name": "#%%\n"
    }
   }
  }
 ],
 "metadata": {
  "kernelspec": {
   "display_name": "Python 3",
   "language": "python",
   "name": "python3"
  },
  "language_info": {
   "codemirror_mode": {
    "name": "ipython",
    "version": 2
   },
   "file_extension": ".py",
   "mimetype": "text/x-python",
   "name": "python",
   "nbconvert_exporter": "python",
   "pygments_lexer": "ipython2",
   "version": "2.7.6"
  }
 },
 "nbformat": 4,
 "nbformat_minor": 0
}